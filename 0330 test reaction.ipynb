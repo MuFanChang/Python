{
 "cells": [
  {
   "cell_type": "code",
   "execution_count": 2,
   "metadata": {
    "collapsed": true
   },
   "outputs": [],
   "source": [
    "import requests\n",
    "import pandas as pd\n",
    "from dateutil.parser import parse"
   ]
  },
  {
   "cell_type": "code",
   "execution_count": 3,
   "metadata": {
    "collapsed": false
   },
   "outputs": [
    {
     "data": {
      "text/html": [
       "<div>\n",
       "<table border=\"1\" class=\"dataframe\">\n",
       "  <thead>\n",
       "    <tr style=\"text-align: right;\">\n",
       "      <th></th>\n",
       "      <th>粉絲專頁</th>\n",
       "      <th>發文內容</th>\n",
       "      <th>發文時間</th>\n",
       "    </tr>\n",
       "  </thead>\n",
       "  <tbody>\n",
       "    <tr>\n",
       "      <th>0</th>\n",
       "      <td>洪老師的大平台</td>\n",
       "      <td>測試--杯緣子</td>\n",
       "      <td>2017-03-28</td>\n",
       "    </tr>\n",
       "  </tbody>\n",
       "</table>\n",
       "</div>"
      ],
      "text/plain": [
       "      粉絲專頁     發文內容        發文時間\n",
       "0  洪老師的大平台  測試--杯緣子  2017-03-28"
      ]
     },
     "execution_count": 3,
     "metadata": {},
     "output_type": "execute_result"
    }
   ],
   "source": [
    "#在Facebook Graph API Exploer取得token\n",
    "\n",
    "token = 'EAACEdEose0cBAMUcUZCKFJmwP3CBMd9mSZA3QWDYo875WcdGiXKWov6gEcSovgpzQAJvZBQ2VxgvI0K0Dp3vvYxtwJxivSw0cDJzYNNI0HAV2ZCpWZAETQUvMWFUZBEPNGZC2r5huf0rCSzwjmyXgbScY8hMTbu7GoB4AcuLKQbeOMUtXKZB18QqKzTZAyljOEfkZD'\n",
    "\n",
    "\n",
    "#在Facebook Graph API Exploer取得粉絲專頁的id與名稱，並將其包成字典dic\n",
    "\n",
    "fanpage = {'214654399016812':'洪老師的大平台'} \n",
    "\n",
    "\n",
    "#建立一個空的list          \n",
    "\n",
    "information_list = []\n",
    "\n",
    "\n",
    "#使用for迴圈依序讀取粉絲頁的資訊，並使用format將id與token傳入{}裡\n",
    "\n",
    "for ele in fanpage:\n",
    "    res = requests.get('https://graph.facebook.com/v2.8/{}/posts?limit=100&access_token={}'.format(ele, token))\n",
    "    \n",
    "    \n",
    "    #API最多一次呼叫100筆資料，因此使用while迴圈去翻頁取得所有的資料\n",
    "\n",
    "    while 'paging' in res.json(): \n",
    "        for information in res.json()['data']:\n",
    "            if 'message' in information:\n",
    "                information_list.append([fanpage[ele], information['message'], parse(information['created_time']).date()])\n",
    "        res = requests.get(res.json()['paging']['next'])\n",
    "\n",
    "\n",
    "#最後將list轉換成dataframe，並輸出成csv檔\n",
    "\n",
    "information_df = pd.DataFrame(information_list, columns=['粉絲專頁', '發文內容', '發文時間']) \n",
    "#information_df.to_csv('Data Visualization Information.csv', index=False) \n",
    "information_df"
   ]
  },
  {
   "cell_type": "code",
   "execution_count": 5,
   "metadata": {
    "collapsed": false
   },
   "outputs": [
    {
     "data": {
      "text/html": [
       "<div>\n",
       "<table border=\"1\" class=\"dataframe\">\n",
       "  <thead>\n",
       "    <tr style=\"text-align: right;\">\n",
       "      <th></th>\n",
       "      <th>粉絲專頁</th>\n",
       "      <th>發文內容</th>\n",
       "      <th>發文時間</th>\n",
       "    </tr>\n",
       "  </thead>\n",
       "  <tbody>\n",
       "    <tr>\n",
       "      <th>0</th>\n",
       "      <td>洪老師的大平台</td>\n",
       "      <td>測試--杯緣子</td>\n",
       "      <td>2017-03-28</td>\n",
       "    </tr>\n",
       "  </tbody>\n",
       "</table>\n",
       "</div>"
      ],
      "text/plain": [
       "      粉絲專頁     發文內容        發文時間\n",
       "0  洪老師的大平台  測試--杯緣子  2017-03-28"
      ]
     },
     "execution_count": 5,
     "metadata": {},
     "output_type": "execute_result"
    }
   ],
   "source": [
    "import requests \n",
    "import pandas as pd  \n",
    "from dateutil.parser import parse \n",
    "#在Facebook Graph API Exploer取得token \n",
    "\n",
    "token = 'EAACEdEose0cBAOM7atBbxwLhwwcfQjcTwHZCctBW5MShqR21zyV5GkcE2ieaoVORVw5xvsodxSIPLeE0Be37J4NKPNya7gRZAUONamcgs9ae251zj6tKM1LvxypN6d6bkt5j7Yz5GyF7mLIsUqAkKUryQqepSbAyANMhFhDUlB5BU2KEzWP7YRc6CojIq4EN3NaiZC4WQZDZD'  \n",
    "\n",
    " \n",
    "#在Facebook Graph API Exploer取得粉絲專頁的id與名稱，並將其包成字典dic \n",
    "fanpage = {'214654399016812':'洪老師的大平台'}  \n",
    "\n",
    " \n",
    "#建立一個空的list           \n",
    "information_list = [] \n",
    "\n",
    "#使用for迴圈依序讀取粉絲頁的資訊，並使用format將id與token傳入{}裡 \n",
    "\n",
    "for ele in fanpage:     \n",
    "    res = requests.get('https://graph.facebook.com/v2.8/{}/posts?limit=100&access_token={}'.format(ele, token)) \n",
    "    #print(res) \n",
    "     \n",
    "    #API最多一次呼叫100筆資料，因此使用while迴圈去翻頁取得所有的資料 \n",
    "\n",
    "    while 'paging' in res.json():  \n",
    "        for information in res.json()['data']: \n",
    "            if 'message' in information: \n",
    "                information_list.append([fanpage[ele], information['message'], parse(information['created_time']).date()]) \n",
    "        res = requests.get(res.json()['paging']['next']) \n",
    "\n",
    " \n",
    "#最後將list轉換成dataframe，並輸出成csv檔 \n",
    "\n",
    "information_df = pd.DataFrame(information_list, columns=['粉絲專頁', '發文內容', '發文時間'])  \n",
    "information_df \n",
    "#information_df.to_csv('Data Visualization Information.csv', index=False)"
   ]
  },
  {
   "cell_type": "code",
   "execution_count": null,
   "metadata": {
    "collapsed": true
   },
   "outputs": [],
   "source": []
  }
 ],
 "metadata": {
  "kernelspec": {
   "display_name": "Python 3",
   "language": "python",
   "name": "python3"
  },
  "language_info": {
   "codemirror_mode": {
    "name": "ipython",
    "version": 3
   },
   "file_extension": ".py",
   "mimetype": "text/x-python",
   "name": "python",
   "nbconvert_exporter": "python",
   "pygments_lexer": "ipython3",
   "version": "3.6.0"
  }
 },
 "nbformat": 4,
 "nbformat_minor": 2
}
