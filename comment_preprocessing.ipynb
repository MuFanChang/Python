{
 "cells": [
  {
   "cell_type": "code",
   "execution_count": 1,
   "metadata": {
    "collapsed": false
   },
   "outputs": [],
   "source": [
    "import pickle\n",
    "import jieba\n",
    "import re"
   ]
  },
  {
   "cell_type": "code",
   "execution_count": 2,
   "metadata": {
    "collapsed": false
   },
   "outputs": [],
   "source": [
    "data1 = pickle.load(open(\"group1_message_pickle.txt\", 'rb'))\n",
    "data2 = pickle.load(open(\"group2_message_pickle.txt\", 'rb'))\n",
    "data3 = pickle.load(open(\"group3_message_pickle.txt\", 'rb'))\n",
    "data4 = pickle.load(open(\"group4_message_pickle.txt\", 'rb'))\n",
    "data5 = pickle.load(open(\"group5_message_pickle.txt\", 'rb'))\n",
    "data6 = pickle.load(open(\"group6_message_pickle.txt\", 'rb'))\n",
    "data7 = pickle.load(open(\"group7_message_pickle.txt\", 'rb'))\n",
    "data = pickle.load(open('total_message_pickle.txt','rb'))"
   ]
  },
  {
   "cell_type": "code",
   "execution_count": 66,
   "metadata": {
    "collapsed": false
   },
   "outputs": [],
   "source": [
    "#定義斷詞方式\n",
    "dic = {}\n",
    "dic.update(data)\n",
    "def cutcomment(id):\n",
    "    for i in range(0,len(list(data.values())[id])):\n",
    "        content = re.sub(\"[\\s+\\.\\!\\/_,%^*(+\\\"\\']+|[+——！，。？?、~@#￥%……&*（）＋＝～：]+\",\n",
    "                       \"\",list(data.values())[id][i])\n",
    "        words = jieba.lcut(content,cut_all=False)\n",
    "        dic[list(data.keys())[id]].append(words)\n",
    "#迴圈斷詞\n",
    "for i in range(0,len(list(data.keys()))):\n",
    "    dic[list(data.keys())[i]] = []\n",
    "for j in range(0,len(list(data.keys()))):\n",
    "    cutcomment(j)\n",
    "#存出來\n",
    "f = open('total_message_word.txt', 'wb')\n",
    "output = pickle.dump(dic, f)\n",
    "f.close()"
   ]
  },
  {
   "cell_type": "code",
   "execution_count": 67,
   "metadata": {
    "collapsed": false
   },
   "outputs": [],
   "source": [
    "#定義斷詞方式\n",
    "dic1 = {}\n",
    "dic1.update(data1)\n",
    "def cutcomment(id):\n",
    "    for i in range(0,len(list(data1.values())[id])):\n",
    "        content1 = re.sub(\"[\\s+\\.\\!\\/_,%^*(+\\\"\\']+|[+——！，。？?、~@#￥%……&*（）＋＝～：]+\",\n",
    "                       \"\",list(data1.values())[id][i])\n",
    "        words1 = jieba.lcut(content1,cut_all=False)\n",
    "        dic1[list(data1.keys())[id]].append(words1)\n",
    "#迴圈斷詞\n",
    "for i in range(0,len(list(data1.keys()))):\n",
    "    dic1[list(data1.keys())[i]] = []\n",
    "for j in range(0,len(list(data1.keys()))):\n",
    "    cutcomment(j)\n",
    "#存出來\n",
    "f = open('group1_message_word.txt', 'wb')\n",
    "output = pickle.dump(dic1, f)\n",
    "f.close()"
   ]
  },
  {
   "cell_type": "code",
   "execution_count": 68,
   "metadata": {
    "collapsed": false
   },
   "outputs": [],
   "source": [
    "#定義斷詞方式\n",
    "dic2 = {}\n",
    "dic2.update(data2)\n",
    "def cutcomment(id):\n",
    "    for i in range(0,len(list(data2.values())[id])):\n",
    "        content2 = re.sub(\"[\\s+\\.\\!\\/_,%^*(+\\\"\\']+|[+——！，。？?、~@#￥%……&*（）＋＝～：]+\",\n",
    "                       \"\",list(data2.values())[id][i])\n",
    "        words2 = jieba.lcut(content2,cut_all=False)\n",
    "        dic2[list(data2.keys())[id]].append(words2)\n",
    "#迴圈斷詞\n",
    "for i in range(0,len(list(data2.keys()))):\n",
    "    dic2[list(data2.keys())[i]] = []\n",
    "for j in range(0,len(list(data2.keys()))):\n",
    "    cutcomment(j)\n",
    "#存出來\n",
    "f = open('group2_message_word.txt', 'wb')\n",
    "output = pickle.dump(dic2, f)\n",
    "f.close()"
   ]
  },
  {
   "cell_type": "code",
   "execution_count": 69,
   "metadata": {
    "collapsed": false,
    "scrolled": true
   },
   "outputs": [],
   "source": [
    "#定義斷詞方式\n",
    "dic3 = {}\n",
    "dic3.update(data3)\n",
    "def cutcomment(id):\n",
    "    for i in range(0,len(list(data3.values())[id])):\n",
    "        content3 = re.sub(\"[\\s+\\.\\!\\/_,%^*(+\\\"\\']+|[+——！，。？?、~@#￥%……&*（）＋＝～：]+\",\n",
    "                       \"\",list(data3.values())[id][i])\n",
    "        words3 = jieba.lcut(content3,cut_all=False)\n",
    "        dic3[list(data3.keys())[id]].append(words3)\n",
    "#迴圈斷詞\n",
    "for i in range(0,len(list(data3.keys()))):\n",
    "    dic3[list(data3.keys())[i]] = []\n",
    "for j in range(0,len(list(data3.keys()))):\n",
    "    cutcomment(j)\n",
    "#存出來\n",
    "f = open('group3_message_word.txt', 'wb')\n",
    "output = pickle.dump(dic3, f)\n",
    "f.close()"
   ]
  },
  {
   "cell_type": "code",
   "execution_count": 70,
   "metadata": {
    "collapsed": true
   },
   "outputs": [],
   "source": [
    "#定義斷詞方式\n",
    "dic4 = {}\n",
    "dic4.update(data4)\n",
    "def cutcomment(id):\n",
    "    for i in range(0,len(list(data4.values())[id])):\n",
    "        content4 = re.sub(\"[\\s+\\.\\!\\/_,%^*(+\\\"\\']+|[+——！，。？?、~@#￥%……&*（）＋＝～：]+\",\n",
    "                       \"\",list(data4.values())[id][i])\n",
    "        words4 = jieba.lcut(content4,cut_all=False)\n",
    "        dic4[list(data4.keys())[id]].append(words4)\n",
    "#迴圈斷詞\n",
    "for i in range(0,len(list(data4.keys()))):\n",
    "    dic4[list(data4.keys())[i]] = []\n",
    "for j in range(0,len(list(data4.keys()))):\n",
    "    cutcomment(j)\n",
    "#存出來\n",
    "f = open('group4_message_word.txt', 'wb')\n",
    "output = pickle.dump(dic4, f)\n",
    "f.close()"
   ]
  },
  {
   "cell_type": "code",
   "execution_count": 71,
   "metadata": {
    "collapsed": true
   },
   "outputs": [],
   "source": [
    "#定義斷詞方式\n",
    "dic5 = {}\n",
    "dic5.update(data5)\n",
    "def cutcomment(id):\n",
    "    for i in range(0,len(list(data5.values())[id])):\n",
    "        content5 = re.sub(\"[\\s+\\.\\!\\/_,%^*(+\\\"\\']+|[+——！，。？?、~@#￥%……&*（）＋＝～：]+\",\n",
    "                       \"\",list(data5.values())[id][i])\n",
    "        words5 = jieba.lcut(content5,cut_all=False)\n",
    "        dic5[list(data5.keys())[id]].append(words5)\n",
    "#迴圈斷詞\n",
    "for i in range(0,len(list(data5.keys()))):\n",
    "    dic5[list(data5.keys())[i]] = []\n",
    "for j in range(0,len(list(data5.keys()))):\n",
    "    cutcomment(j)\n",
    "#存出來\n",
    "f = open('group5_message_word.txt', 'wb')\n",
    "output = pickle.dump(dic5, f)\n",
    "f.close()"
   ]
  },
  {
   "cell_type": "code",
   "execution_count": 72,
   "metadata": {
    "collapsed": true
   },
   "outputs": [],
   "source": [
    "#定義斷詞方式\n",
    "dic6 = {}\n",
    "dic6.update(data6)\n",
    "def cutcomment(id):\n",
    "    for i in range(0,len(list(data6.values())[id])):\n",
    "        content6 = re.sub(\"[\\s+\\.\\!\\/_,%^*(+\\\"\\']+|[+——！，。？?、~@#￥%……&*（）＋＝～：]+\",\n",
    "                       \"\",list(data6.values())[id][i])\n",
    "        words6 = jieba.lcut(content6,cut_all=False)\n",
    "        dic6[list(data6.keys())[id]].append(words6)\n",
    "#迴圈斷詞\n",
    "for i in range(0,len(list(data6.keys()))):\n",
    "    dic6[list(data6.keys())[i]] = []\n",
    "for j in range(0,len(list(data6.keys()))):\n",
    "    cutcomment(j)\n",
    "#存出來\n",
    "f = open('group6_message_word.txt', 'wb')\n",
    "output = pickle.dump(dic6, f)\n",
    "f.close()"
   ]
  },
  {
   "cell_type": "code",
   "execution_count": 73,
   "metadata": {
    "collapsed": true
   },
   "outputs": [],
   "source": [
    "#定義斷詞方式\n",
    "dic7 = {}\n",
    "dic7.update(data7)\n",
    "def cutcomment(id):\n",
    "    for i in range(0,len(list(data7.values())[id])):\n",
    "        content7 = re.sub(\"[\\s+\\.\\!\\/_,%^*(+\\\"\\']+|[+——！，。？?、~@#￥%……&*（）＋＝～：]+\",\n",
    "                       \"\",list(data7.values())[id][i])\n",
    "        words7 = jieba.lcut(content7,cut_all=False)\n",
    "        dic7[list(data7.keys())[id]].append(words7)\n",
    "#迴圈斷詞\n",
    "for i in range(0,len(list(data7.keys()))):\n",
    "    dic7[list(data7.keys())[i]] = []\n",
    "for j in range(0,len(list(data7.keys()))):\n",
    "    cutcomment(j)\n",
    "#存出來\n",
    "f = open('group7_message_word.txt', 'wb')\n",
    "output = pickle.dump(dic7, f)\n",
    "f.close()"
   ]
  },
  {
   "cell_type": "code",
   "execution_count": 81,
   "metadata": {
    "collapsed": false,
    "scrolled": true
   },
   "outputs": [
    {
     "data": {
      "text/plain": [
       "['慕凡想當網紅',\n",
       " 'burger king雞塊不好吃',\n",
       " '\\x08$$$主播吃麥當勞嗎',\n",
       " '這個好酷喔',\n",
       " '疑似用凡哥騙讚',\n",
       " '凡哥又出現了',\n",
       " '好好吃的感覺',\n",
       " '芒果蘆薈ＱＱ',\n",
       " '錦萍姐會好多國語言',\n",
       " '美國吃薯條',\n",
       " '賽爾維雅吃啥',\n",
       " '很像藝人直播',\n",
       " '好high',\n",
       " '好像節目喔',\n",
       " '有嗎',\n",
       " '愛爾蘭！',\n",
       " '照片讚',\n",
       " '凡哥加入',\n",
       " '是凡哥',\n",
       " '是喔',\n",
       " '我也餓了',\n",
       " '對啊',\n",
       " '好嗨喔～～～～～',\n",
       " '廣東話',\n",
       " '是陳怡潔',\n",
       " '🤓🤓🤓🤓🤓',\n",
       " '\\U0001f923\\U0001f923\\U0001f923\\U0001f923',\n",
       " '日本除了拉麵 其他都還好吧',\n",
       " '我以為 Momus Chao在罵髒話',\n",
       " '日本應該沒啥添加物吧',\n",
       " 'EJ有張開眼睛報嗎？＋1',\n",
       " '偉平ㄏ',\n",
       " '哇嗚',\n",
       " '好繽紛',\n",
       " '想看阿吉',\n",
       " '想看阿吉again',\n",
       " '$$$動物颱風名可以舉例嗎',\n",
       " '看不到橫軸',\n",
       " '還有手語ＸＤＤＤＤ',\n",
       " '小丸子為什麼是男生聲音：（',\n",
       " '好有事ＸＤＤＤ',\n",
       " '佩心好犧牲',\n",
       " '誰用洪老師的名義ＸＤ',\n",
       " '花輪',\n",
       " '$$$GB是哪國',\n",
       " '已經沒有回音ㄌ惡',\n",
       " '為什麼會有回音ＱＱ',\n",
       " '喔喔喔 英國',\n",
       " '還有回音嗎',\n",
       " '正乾名嘴',\n",
       " 'V怪客',\n",
       " '正妹：Ｄ',\n",
       " '專業分析',\n",
       " '：Ｄ',\n",
       " '哇嗚',\n",
       " '哈哈哈哈哈',\n",
       " '林秘書也出現了！！！！！！',\n",
       " '$$$不知道剛剛有沒有漏聽\\n我想問資料是開源的嗎？？ 謝謝',\n",
       " '哇嗚 好酷',\n",
       " '喔喔喔 捷運',\n",
       " '大驚',\n",
       " 'ken哥到底＝＝',\n",
       " '原來如此～',\n",
       " '洪老師現身',\n",
       " 'ＸＤＤＤ',\n",
       " '好酷的圖',\n",
       " 'ken哥在幹麻']"
      ]
     },
     "execution_count": 81,
     "metadata": {},
     "output_type": "execute_result"
    }
   ],
   "source": [
    "data['Allison Yeh']"
   ]
  },
  {
   "cell_type": "code",
   "execution_count": 82,
   "metadata": {
    "collapsed": false,
    "scrolled": true
   },
   "outputs": [
    {
     "data": {
      "text/plain": [
       "[['慕凡', '想當', '網紅'],\n",
       " ['burgerking', '雞塊', '不', '好吃'],\n",
       " ['\\x08', '$', '$', '$', '主播', '吃', '麥當勞', '嗎'],\n",
       " ['這個', '好酷', '喔'],\n",
       " ['疑似', '用凡哥', '騙', '讚'],\n",
       " ['凡哥', '又', '出現', '了'],\n",
       " ['好', '好吃', '的', '感覺'],\n",
       " ['芒果', '蘆薈', 'Ｑ', 'Ｑ'],\n",
       " ['錦萍', '姐會', '好多', '國語', '言'],\n",
       " ['美國', '吃', '薯條'],\n",
       " ['賽爾維雅', '吃', '啥'],\n",
       " ['很', '像', '藝人', '直播'],\n",
       " ['好', 'high'],\n",
       " ['好像', '節目', '喔'],\n",
       " ['有', '嗎'],\n",
       " ['愛爾蘭'],\n",
       " ['照片', '讚'],\n",
       " ['凡哥', '加入'],\n",
       " ['是', '凡哥'],\n",
       " ['是', '喔'],\n",
       " ['我', '也', '餓', '了'],\n",
       " ['對', '啊'],\n",
       " ['好', '嗨', '喔'],\n",
       " ['廣東話'],\n",
       " ['是', '陳', '怡潔'],\n",
       " ['🤓', '🤓', '🤓', '🤓', '🤓'],\n",
       " ['\\U0001f923', '\\U0001f923', '\\U0001f923', '\\U0001f923'],\n",
       " ['日本', '除了', '拉', '麵', '其他', '都', '還好', '吧'],\n",
       " ['我', '以', '為', 'MomusChao', '在', '罵', '髒', '話'],\n",
       " ['日本', '應該', '沒', '啥', '添加物', '吧'],\n",
       " ['EJ', '有', '張開', '眼睛', '報', '嗎', '1'],\n",
       " ['偉平', 'ㄏ'],\n",
       " ['哇', '嗚'],\n",
       " ['好繽紛'],\n",
       " ['想', '看', '阿吉'],\n",
       " ['想', '看', '阿吉', 'again'],\n",
       " ['$', '$', '$', '動物', '颱', '風名', '可以', '舉例', '嗎'],\n",
       " ['看不到', '橫軸'],\n",
       " ['還有', '手語', 'Ｘ', 'Ｄ', 'Ｄ', 'Ｄ', 'Ｄ'],\n",
       " ['小丸子', '為', '什麼', '是', '男生', '聲音'],\n",
       " ['好', '有事', 'Ｘ', 'Ｄ', 'Ｄ', 'Ｄ'],\n",
       " ['佩心', '好', '犧牲'],\n",
       " ['誰', '用', '洪老師', '的', '名義', 'Ｘ', 'Ｄ'],\n",
       " ['花輪'],\n",
       " ['$', '$', '$', 'GB', '是', '哪國'],\n",
       " ['已經', '沒有', '回音', 'ㄌ', '惡'],\n",
       " ['為', '什麼', '會', '有', '回音', 'Ｑ', 'Ｑ'],\n",
       " ['喔', '喔', '喔', '英國'],\n",
       " ['還有', '回音', '嗎'],\n",
       " ['正乾', '名嘴'],\n",
       " ['V', '怪客'],\n",
       " ['正妹', 'Ｄ'],\n",
       " ['專業', '分析'],\n",
       " ['Ｄ'],\n",
       " ['哇', '嗚'],\n",
       " ['哈哈哈', '哈哈'],\n",
       " ['林秘', '書', '也', '出現', '了'],\n",
       " ['$',\n",
       "  '$',\n",
       "  '$',\n",
       "  '不',\n",
       "  '知道',\n",
       "  '剛剛',\n",
       "  '有',\n",
       "  '沒',\n",
       "  '有',\n",
       "  '漏',\n",
       "  '聽',\n",
       "  '我',\n",
       "  '想',\n",
       "  '問資料',\n",
       "  '是',\n",
       "  '開源',\n",
       "  '的',\n",
       "  '嗎',\n",
       "  '謝謝'],\n",
       " ['哇', '嗚', '好酷'],\n",
       " ['喔', '喔', '喔', '捷運'],\n",
       " ['大驚'],\n",
       " ['ken', '哥', '到底'],\n",
       " ['原來', '如此'],\n",
       " ['洪老師', '現身'],\n",
       " ['Ｘ', 'Ｄ', 'Ｄ', 'Ｄ'],\n",
       " ['好酷', '的', '圖'],\n",
       " ['ken', '哥', '在', '幹麻']]"
      ]
     },
     "execution_count": 82,
     "metadata": {},
     "output_type": "execute_result"
    }
   ],
   "source": [
    "dic['Allison Yeh']"
   ]
  },
  {
   "cell_type": "code",
   "execution_count": null,
   "metadata": {
    "collapsed": true
   },
   "outputs": [],
   "source": []
  }
 ],
 "metadata": {
  "anaconda-cloud": {},
  "kernelspec": {
   "display_name": "Python [conda root]",
   "language": "python",
   "name": "conda-root-py"
  },
  "language_info": {
   "codemirror_mode": {
    "name": "ipython",
    "version": 3
   },
   "file_extension": ".py",
   "mimetype": "text/x-python",
   "name": "python",
   "nbconvert_exporter": "python",
   "pygments_lexer": "ipython3",
   "version": "3.5.2"
  }
 },
 "nbformat": 4,
 "nbformat_minor": 1
}
